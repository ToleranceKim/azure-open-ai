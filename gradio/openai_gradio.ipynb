{
 "cells": [
  {
   "cell_type": "code",
   "execution_count": null,
   "metadata": {},
   "outputs": [
    {
     "name": "stdout",
     "output_type": "stream",
     "text": [
      "assistant\n"
     ]
    },
    {
     "data": {
      "text/markdown": [
       "부산에서 고령친화 인력 사업을 운영하시면서 3월에 참여할 수 있는 지원사업에 대한 정보는 다음과 같습니다:\n",
       "\n",
       "1. **2024년 고령친화산업 재정지원사업**\n",
       "   - **신청 종료일자**: 2024년 3월 31일\n",
       "   - **공고 URL**: [부산광역시](https://www.busan.go.kr)\n",
       "\n",
       "2. **2024년 고령친화 인력 양성 프로그램**\n",
       "   - **신청 종료일자**: 2024년 3월 15일\n",
       "   - **공고 URL**: [부산광역시](https://www.busan.go.kr)\n",
       "\n",
       "3. **2024년 고령친화 기업 지원사업**\n",
       "   - **신청 종료일자**: 2024년 3월 20일\n",
       "   - **공고 URL**: [부산광역시](https://www.busan.go.kr)\n",
       "\n",
       "4. **2024년 고령친화 서비스 개발 지원**\n",
       "   - **신청 종료일자**: 2024년 3월 10일\n",
       "   - **공고 URL**: [부산광역시](https://www.busan.go.kr)\n",
       "\n",
       "5. **2024년 고령친화 사회적 기업 지원사업**\n",
       "   - **신청 종료일자**: 2024년 3월 25일\n",
       "   - **공고 URL**: [부산광역시](https://www.busan.go.kr)\n",
       "\n",
       "각 지원사업의 세부사항은 부산광역시의 공식 웹사이트를 통해 확인하실 수 있습니다. 필요하신 추가 정보가 있으시면 말씀해 주세요!"
      ],
      "text/plain": [
       "<IPython.core.display.Markdown object>"
      ]
     },
     "metadata": {},
     "output_type": "display_data"
    },
    {
     "name": "stdout",
     "output_type": "stream",
     "text": [
      "참조 1\n",
      "부산테크노파크\n",
      "[부산] 2024년 고령친화산업 육성지원사업 지원기업 모집 공고\n",
      "기술\n",
      "부산광역시\n",
      "참조 2\n",
      "국가과학기술연구회\n",
      "2024년 3월 공공연 연구인력 파견지원 공고(중소기업 연구인력지원사업)\n",
      "인력\n",
      "중소벤처기업부\n",
      "참조 3\n",
      "한국고용정보원\n",
      "2024년 1분기 (최초) 고령자 고용지원금 신청서 접수 공고\n",
      "인력\n",
      "고용노동부\n",
      "참조 4\n",
      "부산광역여성새로일하기센터\n",
      "[부산] 2024년 여성 창업자 맞춤형 전문가 컨설팅 신청 공고\n",
      "창업\n",
      "부산광역시\n",
      "참조 5\n",
      "부산경제진흥원\n",
      "[부산] 2024년 부산창업카페 전문가 컨설팅 지원 공고\n",
      "창업\n",
      "부산광역시\n"
     ]
    }
   ],
   "source": [
    "import requests\n",
    "import re\n",
    "\n",
    "# Azure OpenAI API 엔드포인트 및 API 키\n",
    "endpoint = \"https://6a005-openai-eastus2.openai.azure.com/openai/deployments/6a005-gpt-4o-mini/chat/completions?api-version=2025-01-01-preview\"\n",
    "api_key = \"4n4wU9MTtdMeHXhBX1fAURyZKJTWhaweFWxSO4GLqomzHbV4yKOVJQQJ99BCACLArgHXJ3w3AAABACOG8d7A\"\n",
    "\n",
    "# Azure Search 관련 설정\n",
    "ai_search_endpoint = \"https://6a005-ai-search.search.windows.net\"\n",
    "ai_search_api_key = \"KLsyBFpDEWPWczaOTmgDOvxuvbrwPGv8N6WZ9yK6PZAzSeCIsFzo\"\n",
    "ai_search_index = \"venture-index-microsoft\"\n",
    "\n",
    "def request_gpt(prompt):\n",
    "    headers = {\n",
    "        \"Content-Type\": \"application/json\",\n",
    "        \"api-key\": api_key\n",
    "    }\n",
    "    \n",
    "    body = {\n",
    "        \"data_sources\": [\n",
    "            {\n",
    "                \"type\": \"azure_search\",\n",
    "                \"parameters\": {\n",
    "                    \"endpoint\": ai_search_endpoint,\n",
    "                    \"index_name\": ai_search_index,\n",
    "                    \"semantic_configuration\": \"venture-semantic\",\n",
    "                    \"query_type\": \"semantic\",\n",
    "                    \"fields_mapping\": {},\n",
    "                    \"in_scope\": True,\n",
    "                    \"filter\": None,\n",
    "                    \"strictness\": 3,\n",
    "                    \"top_n_documents\": 5,\n",
    "                    \"authentication\": {\n",
    "                        \"type\": \"api_key\",\n",
    "                        \"key\": ai_search_api_key\n",
    "                    },\n",
    "                    \"key\": ai_search_api_key,\n",
    "                }\n",
    "            }\n",
    "        ],\n",
    "        \"messages\": [\n",
    "            {\n",
    "                \"role\": \"system\",\n",
    "                \"content\": \"너는 중소기업 경영자에게 지원사업 정보를 제공하는 도우미야\"\n",
    "            },\n",
    "            {\n",
    "                \"role\": \"user\",\n",
    "                \"content\": prompt\n",
    "            }\n",
    "        ],\n",
    "        \"temperature\": 0.7,\n",
    "        \"top_p\": 0.95,\n",
    "        \"max_tokens\": 800\n",
    "    }\n",
    "    \n",
    "    response = requests.post(endpoint, headers=headers, json=body)\n",
    "    \n",
    "    if response.status_code == 200:\n",
    "        response_json = response.json()\n",
    "        message = response_json['choices'][0]['message']\n",
    "        # context가 없는 경우도 있을 수 있으므로 안전하게 가져옴\n",
    "        citation_list = message.get('context', {}).get('citations', [])\n",
    "        content = message['content']\n",
    "        # [doc숫자]를 [참조 숫자]로 변환\n",
    "        content = re.sub(r'\\[doc(\\d+)\\]', r'[참조 \\1]', content)\n",
    "        return content, citation_list\n",
    "    else:\n",
    "        print(\"Error:\", response.status_code, response.text)\n",
    "        return \"응답 에러 발생\", []"
   ]
  },
  {
   "cell_type": "code",
   "execution_count": 14,
   "metadata": {},
   "outputs": [],
   "source": [
    "custom_css = \"\"\"\n",
    ":root {\n",
    "  --primary-color: #007FFF;       /* Azure Blue */\n",
    "  --secondary-color: #005BB5;     /* 약간 더 어두운 블루 */\n",
    "  --background-color: #F0F8FF;      /* 연한 블루 배경 (AliceBlue) */\n",
    "  --text-color: #333333;\n",
    "}\n",
    "\n",
    "/* 버튼 스타일 */\n",
    "button {\n",
    "  background-color: var(--primary-color);\n",
    "  border: 1px solid var(--secondary-color);\n",
    "  color: white;\n",
    "}\n",
    "\n",
    "/* 텍스트 및 기타 컴포넌트 색상 */\n",
    ".gradio-container {\n",
    "  background-color: var(--background-color);\n",
    "  color: var(--text-color);\n",
    "}\n",
    "\n",
    "/* 마크다운 제목 스타일 */\n",
    ".markdown h1, .markdown h2, .markdown h3 {\n",
    "  color: var(--primary-color);\n",
    "}\n",
    "\"\"\""
   ]
  },
  {
   "cell_type": "code",
   "execution_count": null,
   "metadata": {},
   "outputs": [
    {
     "name": "stderr",
     "output_type": "stream",
     "text": [
      "c:\\Users\\USER\\anaconda3\\envs\\ds_env\\Lib\\site-packages\\gradio\\components\\chatbot.py:282: UserWarning: You have not specified a value for the `type` parameter. Defaulting to the 'tuples' format for chatbot messages, but this is deprecated and will be removed in a future version of Gradio. Please set type='messages' instead, which uses openai-style dictionaries with 'role' and 'content' keys.\n",
      "  warnings.warn(\n"
     ]
    },
    {
     "name": "stdout",
     "output_type": "stream",
     "text": [
      "* Running on local URL:  http://127.0.0.1:7876\n",
      "\n",
      "To create a public link, set `share=True` in `launch()`.\n"
     ]
    },
    {
     "data": {
      "text/html": [
       "<div><iframe src=\"http://127.0.0.1:7876/\" width=\"100%\" height=\"500\" allow=\"autoplay; camera; microphone; clipboard-read; clipboard-write;\" frameborder=\"0\" allowfullscreen></iframe></div>"
      ],
      "text/plain": [
       "<IPython.core.display.HTML object>"
      ]
     },
     "metadata": {},
     "output_type": "display_data"
    },
    {
     "data": {
      "text/plain": []
     },
     "execution_count": 26,
     "metadata": {},
     "output_type": "execute_result"
    }
   ],
   "source": [
    "import gradio as gr\n",
    "\n",
    "def click_send(prompt, history):\n",
    "    # 사용자의 프롬프트를 받아 GPT API에 요청\n",
    "    content, citation_list = request_gpt(prompt)\n",
    "\n",
    "    # 대화 기록에 사용자와 어시스턴트의 메시지를 추가 (각 메시지를 튜플로 구성)\n",
    "    history.append((\"사용자\", prompt))\n",
    "    history.append((\"GPT\", content))\n",
    "\n",
    "    # 참조 목록을 문자열로 구성\n",
    "    citations_text = \"\"\n",
    "    for i, citation in enumerate(citation_list, start=1):\n",
    "        citations_text += f\"참조 {i}: {citation.get('content', '')}\\n\\n\"\n",
    "\n",
    "    # 반환: 업데이트된 대화 기록, 참조 텍스트, 프롬프트 입력창 초기화를 위한 빈 문자열\n",
    "    return history, citations_text, \"\"\n",
    "\n",
    "with gr.Blocks(css=custom_css) as demo:\n",
    "    \n",
    "    gr.HTML(\n",
    "        \"\"\"\n",
    "        <div style=\"display: flex; justify-content: space-between; align-items: center;\">\n",
    "            <h1>중소벤처 지원사업 도우미</h1>\n",
    "            <img src=\"https://raw.githubusercontent.com/ToleranceKim/azure-open-ai/refs/heads/main/gradio/logo/1.%EC%A4%91%EC%86%8C%EB%B2%A4%EC%B2%98%EA%B8%B0%EC%97%85%EB%B6%80_%EA%B5%AD_%EA%B0%80%EB%A1%9C.jpg\" \n",
    "                 alt=\"중소벤처기업부 로고\"\n",
    "                 style=\"height: 50px;\">\n",
    "        </div>\n",
    "        \"\"\"\n",
    "    )\n",
    "\n",
    "    # 대화 기록을 보여줄 챗봇 컴포넌트\n",
    "    chatbot = gr.Chatbot(label=\"나의 GPT\", height=300)\n",
    "\n",
    "    # 프롬프트 입력창과 전송 버튼\n",
    "    with gr.Row():\n",
    "        prompt_textbox = gr.Textbox(label=\"프롬프트\", placeholder=\"프롬프트를 입력하세요.\", scale=6)\n",
    "        send_button = gr.Button(\"전송\", scale=1)\n",
    "\n",
    "    # 참조 내용을 출력할 텍스트박스\n",
    "    citations_textbox = gr.Textbox(label=\"참조\", lines=5)\n",
    "\n",
    "    # 전송 버튼 클릭 시, click_send 함수 호출:\n",
    "    # - inputs: 사용자가 입력한 프롬프트와 현재의 대화 기록(챗봇 내용)\n",
    "    # - outputs: 업데이트된 대화 기록, 참조 텍스트, 그리고 프롬프트 입력창 초기화\n",
    "    send_button.click(click_send, inputs=[prompt_textbox, chatbot], outputs=[chatbot, citations_textbox, prompt_textbox])\n",
    "\n",
    "demo.launch()"
   ]
  }
 ],
 "metadata": {
  "kernelspec": {
   "display_name": "ds_env",
   "language": "python",
   "name": "python3"
  },
  "language_info": {
   "codemirror_mode": {
    "name": "ipython",
    "version": 3
   },
   "file_extension": ".py",
   "mimetype": "text/x-python",
   "name": "python",
   "nbconvert_exporter": "python",
   "pygments_lexer": "ipython3",
   "version": "3.12.8"
  }
 },
 "nbformat": 4,
 "nbformat_minor": 2
}
