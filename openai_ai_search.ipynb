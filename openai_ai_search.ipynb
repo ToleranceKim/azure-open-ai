{
 "cells": [
  {
   "cell_type": "code",
   "execution_count": 12,
   "metadata": {},
   "outputs": [
    {
     "name": "stdout",
     "output_type": "stream",
     "text": [
      "assistant\n",
      "200 {\"choices\":[{\"content_filter_results\":{\"hate\":{\"filtered\":false,\"severity\":\"safe\"},\"self_harm\":{\"filtered\":false,\"severity\":\"safe\"},\"sexual\":{\"filtered\":false,\"severity\":\"safe\"},\"violence\":{\"filtered\":false,\"severity\":\"safe\"}},\"finish_reason\":\"stop\",\"index\":0,\"logprobs\":null,\"message\":{\"content\":\"남해에는 아름다운 자연경관과 문화유산이 많은 관광지가 있습니다. 아래 세 곳을 추천드립니다:\\n\\n1. **남해 독일마을**: 독일 이민자들이 정착했던 역사적인 마을로, 독일식 건축물과 카페, 레스토랑이 매력적입니다. 독일의 풍경을 느끼며 여유롭게 산책할 수 있는 곳입니다.\\n\\n2. **상주 은모래비치**: 맑고 깨끗한 바다와 은빛 모래사장이 인상적인 해수욕장입니다. 여름철에는 수영과 다양한 해양 스포츠를 즐길 수 있으며, 해안선을 따라 펼쳐진 아름다운 풍경이 매력적입니다.\\n\\n3. **남해 다랭이마을**: 계단식 논이 인상적인 전통 농촌 마을로, 아름다운 경관과 함께 농촌 체험을 할 수 있습니다. 특히 해질 무렵의 노을이 아름다워 사진 촬영 명소로도 유명합니다.\\n\\n이 외에도 남해에는 다양한 관광지가 많이 있으니, 방문하시면 좋은 경험을 하실 수 있을 것입니다!\",\"refusal\":null,\"role\":\"assistant\"}}],\"created\":1741763125,\"id\":\"chatcmpl-BAARZFHj6SuLVuJwrqKKiVuRZCr0B\",\"model\":\"gpt-4o-mini-2024-07-18\",\"object\":\"chat.completion\",\"prompt_filter_results\":[{\"prompt_index\":0,\"content_filter_results\":{\"hate\":{\"filtered\":false,\"severity\":\"safe\"},\"self_harm\":{\"filtered\":false,\"severity\":\"safe\"},\"sexual\":{\"filtered\":false,\"severity\":\"safe\"},\"violence\":{\"filtered\":false,\"severity\":\"safe\"}}}],\"system_fingerprint\":\"fp_ded0d14823\",\"usage\":{\"completion_tokens\":252,\"completion_tokens_details\":{\"accepted_prediction_tokens\":0,\"audio_tokens\":0,\"reasoning_tokens\":0,\"rejected_prediction_tokens\":0},\"prompt_tokens\":30,\"prompt_tokens_details\":{\"audio_tokens\":0,\"cached_tokens\":0},\"total_tokens\":282}}\n",
      "\n"
     ]
    },
    {
     "data": {
      "text/markdown": [
       "남해에는 아름다운 자연경관과 문화유산이 많은 관광지가 있습니다. 아래 세 곳을 추천드립니다:\n",
       "\n",
       "1. **남해 독일마을**: 독일 이민자들이 정착했던 역사적인 마을로, 독일식 건축물과 카페, 레스토랑이 매력적입니다. 독일의 풍경을 느끼며 여유롭게 산책할 수 있는 곳입니다.\n",
       "\n",
       "2. **상주 은모래비치**: 맑고 깨끗한 바다와 은빛 모래사장이 인상적인 해수욕장입니다. 여름철에는 수영과 다양한 해양 스포츠를 즐길 수 있으며, 해안선을 따라 펼쳐진 아름다운 풍경이 매력적입니다.\n",
       "\n",
       "3. **남해 다랭이마을**: 계단식 논이 인상적인 전통 농촌 마을로, 아름다운 경관과 함께 농촌 체험을 할 수 있습니다. 특히 해질 무렵의 노을이 아름다워 사진 촬영 명소로도 유명합니다.\n",
       "\n",
       "이 외에도 남해에는 다양한 관광지가 많이 있으니, 방문하시면 좋은 경험을 하실 수 있을 것입니다!"
      ],
      "text/plain": [
       "<IPython.core.display.Markdown object>"
      ]
     },
     "metadata": {},
     "output_type": "display_data"
    }
   ],
   "source": [
    "import requests\n",
    "\n",
    "#enpoint\n",
    "endpoint = \"https://6a005-openai-eastus2.openai.azure.com/openai/deployments/6a005-gpt-4o-mini/chat/completions?api-version=2025-01-01-preview\"\n",
    "\n",
    "#method : POST\n",
    "\n",
    "#headers\n",
    "headers = {\n",
    "    \"Content-Type\": \"application/json\",\n",
    "    \"api-key\": \"4n4wU9MTtdMeHXhBX1fAURyZKJTWhaweFWxSO4GLqomzHbV4yKOVJQQJ99BCACLArgHXJ3w3AAABACOG8d7A\"\n",
    "}\n",
    "\n",
    "prompt = \"남해 관광지 3곳만 알려 줘\"\n",
    "\n",
    "#body\n",
    "body = {\n",
    "\"messages\": [\n",
    "    {\n",
    "      \"role\": \"system\",\n",
    "      \"content\": \"너는 남해 여행 전문가야.\"\n",
    "    },\n",
    "    {\n",
    "      \"role\": \"user\",\n",
    "      \"content\": prompt\n",
    "    }\n",
    "  ],\n",
    "  \"temperature\": 0.7,\n",
    "  \"top_p\": 0.95,\n",
    "  \"max_tokens\": 800\n",
    "}\n",
    "\n",
    "response = requests.post(endpoint, headers=headers, json=body)\n",
    "response_json = response.json()\n",
    "message = response_json['choices'][0]['message']\n",
    "role = message['role']\n",
    "content = message['content']\n",
    "\n",
    "print(role)\n",
    "\n",
    "\n",
    "print(response.status_code, response.text)\n",
    "\n",
    "from IPython.display import Markdown\n",
    "display(Markdown(content))"
   ]
  },
  {
   "cell_type": "markdown",
   "metadata": {},
   "source": [
    "이주찬 - 문화예술 챗봇</br>\n",
    "김영교 - 피아노 연습실 관련 서비스</br>\n",
    "김수연 - 유물 검색 서비스</br>\n",
    "고권아 - 페스티벌 탐색 챗봇"
   ]
  },
  {
   "cell_type": "markdown",
   "metadata": {},
   "source": [
    "## 함수화"
   ]
  },
  {
   "cell_type": "code",
   "execution_count": null,
   "metadata": {},
   "outputs": [
    {
     "name": "stdout",
     "output_type": "stream",
     "text": [
      "assistant\n"
     ]
    },
    {
     "data": {
      "text/markdown": [
       "남해에는 여러 아름다운 관광지가 있습니다. 그 중에서 추천하는 세 곳은 다음과 같습니다:\n",
       "\n",
       "1. **남해 독일 마을**: 이곳은 독일의 전통적인 건축 양식을 가진 마을로, 독일 문화와 음식을 경험할 수 있는 특별한 장소입니다. 다양한 카페와 레스토랑이 있어 관광객들에게 인기가 많습니다 .\n",
       "\n",
       "2. **남해 바다 경치**: 남해의 해변과 바다는 그림 같은 경치를 자랑합니다. 특히, 노을이 지는 시간에는 환상적인 뷰를 즐길 수 있어 많은 사진가들이 찾는 명소입니다 [참조 3].\n",
       "\n",
       "3. **남해 금산**: 이곳은 아름다운 자연 경관과 함께 하이킹을 즐길 수 있는 장소로, 정상에서 바라보는 바다와 섬들의 경치가 일품입니다. 다양한 등산로가 마련되어 있어 가족 단위 방문객에게도 적합합니다 .\n",
       "\n",
       "각 관광지는 독특한 매력을 가지고 있어 방문할 가치가 충분합니다!"
      ],
      "text/plain": [
       "<IPython.core.display.Markdown object>"
      ]
     },
     "metadata": {},
     "output_type": "display_data"
    },
    {
     "name": "stdout",
     "output_type": "stream",
     "text": [
      "참조 1\n",
      "경상남도 남해군 설천면 설천로775번길 364\n",
      "굽이굽이 구불구불 비탈진 인생도 생애 어느 날만큼은 탁 트인 초원에서 모든 상념을 내려놓고 쉬어 가야 하지 않을까. 탁 트인 드넓은 들판. 푸른 초록의 숲과 들, 눈 앞에 펼쳐진 시원한 바다. 곳곳에 우리를 둘러싼 귀여운 양들의 산책까지. 이 모든 걸 만날 수 있는 남해상상양떼목장이 설천면 구두산 일대에 펼쳐져 있다.\n",
      "Y\n",
      "http://yangttefarm.com/\n",
      "34.9361826\n",
      "127.8906311\n",
      "남해 상상양떼목장 편백숲\n",
      "055-862-5300\n",
      "봄, 여름, 가을, 겨울, 자가용/렌트, 친구, 키즈, 연인, 우정女, 우정男, 효도\n",
      "관광지\n",
      "참조 2\n",
      "경상남도 남해군 남면 홍현리\n",
      "설흘산은 남면해안도로와 더불어 일출경관이 가장 뛰어난 곳 중 하나이다. 설흘산에서 시작된 남면 해안의 종주맥은 응봉산과 구름봉을 거쳐 선구마을의 몰랑등에 까지 이어져 남해안의 조망이 일품이다.\n",
      "Y\n",
      "34.7381977\n",
      "127.9007648\n",
      "설흘산\n",
      "055-860-3676\n",
      "관광명소, 봄, 여름, 가을, 겨울, 자가용/렌트, 친구, 연인, 우정男, 나홀로, 단체\n",
      "관광지\n",
      "참조 3\n",
      "남해군 삼동면 동부대로1030번길 59\n",
      "2천여 그루의 방풍림으로 조성된 울창한 수림이 초승달 모양을 그리며 장관을 이루고 있는 곳으로 숲과 어우러진 몽돌해안은 남해 바다의 정취가 물씬 풍기는 독특함을 자랑한다.\n",
      "Y\n",
      "34.7958875\n",
      "128.0504234\n",
      "남해 물건리 방조어부림과 물미해안\n",
      "055-860-8631\n",
      "봄, 여름, 가을, 겨울, 자가용/렌트, 버스, 친구, 키즈, 연인, 우정女, 우정男, 효도, 나홀로, 단체\n",
      "관광지\n",
      "천연기념물 제150호\n",
      "참조 4\n",
      "경상남도 남해군 삼동면 금암로 179-45\n",
      "삼동면 봉화리 131, 일대에 2018년 5월 개장한 이곳은 삼동면 일대의 인기 관광지가 다 집약된 곳 중 노른자 위치에 자리한 양떼목장이기에 접근성이 빼어나다. 가을 단풍이 좋기로 유명한 삼동면 내산에 자리한 이 목장의 주변은 편백자연휴양림, 나비생태공원, 바람흔적미술관과 이웃하며 독일마을, 해오름예술촌과도 연계해 가기 좋다. 매일 오전 11시에서 3시 사이 매시 정각에 하는 ‘양몰이 공연’이 유명한 이곳 양마르뜨 목장은 방송 출연으로도 화제가 되었던 ‘양몰이 개’ 모스가 유명하다. 양을 모는 검은 개 ‘모스’가 선두에서 수 십마리의 양을 모는 모습은 그야말로 드라마틱한 장면의 연속이다. 간혹 무리에서 이탈한 한 두 마리의 어린 양을 발견하기도 하는 재미는 덤으로 따라온다. 양몰이 공연이 마치면 원반던지기 체험도 종종 이어진다.\n",
      "Y\n",
      "https://www.nh-yang.com/\n",
      "34.7904325\n",
      "128.0241394\n",
      "남해양떼목장 양마르뜨 언덕\n",
      "봄, 여름, 가을, 겨울, 자가용/렌트, 친구, 키즈, 연인, 우정女, 우정男, 효도, 나홀로, 단체\n",
      "관광지\n",
      "참조 5\n",
      "경상남도 남해군 설천면 남해대로 4216\n",
      "Y\n",
      "34.9407443\n",
      "127.8724304\n",
      "남해대교와 남해각\n",
      "055-860-3311\n",
      "관광명소, 봄, 자가용/렌트, 친구\n",
      "관광지\n"
     ]
    }
   ],
   "source": [
    "import requests\n",
    "import re\n",
    "\n",
    "#enpoint\n",
    "endpoint = \"https://6a005-openai-eastus2.openai.azure.com/openai/deployments/6a005-gpt-4o-mini/chat/completions?api-version=2025-01-01-preview\"\n",
    "\n",
    "#method : POST\n",
    "\n",
    "prompt = \"남해 관광지 3곳만 알려 줘\"\n",
    "\n",
    "ai_search_endpoint = \"https://6a005-ai-search.search.windows.net\"\n",
    "ai_search_api_key = \"KLsyBFpDEWPWczaOTmgDOvxuvbrwPGv8N6WZ9yK6PZAzSeCIsFzo\"\n",
    "ai_search_index = \"travel-index-microsoft\"\n",
    "\n",
    "def request_gpt(prompt):\n",
    "  \n",
    "  # HTTP 요청에 필요한 헤더 설정\n",
    "  # Content-Type은 요청 본문이 JSON 형식임을 나타냄\n",
    "  # api-key는 Azure OpenAI 서비스의 인증에 사용됨\n",
    "  headers = {\n",
    "      \"Content-Type\": \"application/json\",\n",
    "      \"api-key\": \"4n4wU9MTtdMeHXhBX1fAURyZKJTWhaweFWxSO4GLqomzHbV4yKOVJQQJ99BCACLArgHXJ3w3AAABACOG8d7A\"\n",
    "  }\n",
    "\n",
    "  # HTTP 요청의 본문 데이터\n",
    "  # messages 리스트에는 대화의 역할(role)과 내용(content)이 포함됨\n",
    "  # \"system\" 역할은 모델의 행동을 정의하며, 여기서는 \"남해 여행 전문가\"로 설정\n",
    "  # \"user\" 역할은 사용자가 입력한 메시지를 나타냄\n",
    "  body = {\n",
    "    \"data_sources\": [\n",
    "    {\n",
    "      \"type\": \"azure_search\",\n",
    "      \"parameters\": {\n",
    "        \"endpoint\": ai_search_endpoint,\n",
    "        \"index_name\": ai_search_index,\n",
    "        \"semantic_configuration\": \"travel-semantic\",\n",
    "        \"query_type\": \"semantic\",\n",
    "        \"fields_mapping\": {},\n",
    "        \"in_scope\": True,\n",
    "        \"filter\": None,\n",
    "        \"strictness\": 3,\n",
    "        \"top_n_documents\": 5,\n",
    "        \"authentication\": {\n",
    "          \"type\": \"api_key\",\n",
    "          \"key\": ai_search_api_key\n",
    "        },\n",
    "        \"key\": ai_search_api_key,\n",
    "      }\n",
    "    }\n",
    "  ],\n",
    "  \"messages\": [\n",
    "      {\n",
    "        \"role\": \"system\", # 시스템 역할: 모델의 컨텍스트 설정\n",
    "        \"content\": \"너는 남해 여행 전문가야.\" # 모델에게 특정 역할을 부여\n",
    "      },\n",
    "      {\n",
    "        \"role\": \"user\", # 시스템 역할 : 모델의 컨텍스트 설정\n",
    "        \"content\": prompt # 모델에게 특정 역할을 부여\n",
    "      }\n",
    "    ],\n",
    "    \"temperature\": 0.7, # 응답의 창의성 정도를 조절 (0.0은 보수적, 1.0은 매우 창의적)\n",
    "    \"top_p\": 0.95, # 확률 분포에서 상위 p%를 선택하여 응답 생성\n",
    "    \"max_tokens\": 800 # 응답에 사용할 최대 토큰 수 (토큰은 단어 및 기호 단위)\n",
    "  }\n",
    "\n",
    "  # POST 요청을 보내고 응답 받기\n",
    "  response = requests.post(endpoint, headers=headers, json=body)\n",
    "  \n",
    "  if response.status_code == 200:\n",
    "\n",
    "    # 응답을 JSON 형식으로 파싱\n",
    "    response_json = response.json()\n",
    "\n",
    "    # 모델이 생성한 메시지 추출\n",
    "    message = response_json['choices'][0]['message']\n",
    "    citation_list = message['context']['citations']\n",
    "\n",
    "    # 역할(role)과 내용(content) 분리\n",
    "    role = message['role'] # 메시지의 역할 (예: assistant)\n",
    "    content = message['content'] # 메시지의 내용 (예: 남해 관광지 정보)\n",
    "    content = re.sub(r'\\[doc(\\d+)\\]', r'[참조 \\1]', content)\n",
    "\n",
    "    # 역할 출력력\n",
    "    print(role)\n",
    "\n",
    "    return content, citation_list\n",
    "  else:\n",
    "    return \"\"\n",
    "\n",
    "content, citation_list = request_gpt(\"남해 관광지 3곳만 알려 줘\")\n",
    "\n",
    "from IPython.display import Markdown\n",
    "display(Markdown(content))\n",
    "\n",
    "for index in range(len(citation_list)):\n",
    "  c = citation_list[index]\n",
    "  print(\"참조 {}\".format(index + 1))\n",
    "  print(c['content'])"
   ]
  },
  {
   "cell_type": "code",
   "execution_count": null,
   "metadata": {},
   "outputs": [],
   "source": [
    "response = requests.post(endpoint, headers=headers, json=body)\n",
    "# 1번print(response.status_code, response.text) 여기서 json이라는걸 알 수 있음\n",
    "response_json = response.json() # 2번\n",
    "# response_json['contents'] 디버깅 # 3번\n",
    "# response_json['contents'][0] 디버깅 # 4번 \n",
    "# response_json['contents'][0]['message'] 디버깅 # 5번\n",
    "\n",
    "# 이렇게 까지 파고들어서 요소를 다 찾았다면 다 꺼내주기 최종으로 꺼낼 요소는 content임\n",
    "message = response_json['choices'][0]['message'] #7번 \n",
    "role = message['role'] # 8번\n",
    "content = message['content'] # 이렇게 컨텐츠 까지 도달"
   ]
  },
  {
   "cell_type": "code",
   "execution_count": null,
   "metadata": {},
   "outputs": [],
   "source": [
    "# OpenAI 를 연동\n",
    "# 함수화\n",
    "# AI Search 연동\n",
    "# 출력"
   ]
  },
  {
   "cell_type": "code",
   "execution_count": null,
   "metadata": {},
   "outputs": [],
   "source": [
    "import requests\n",
    "\n",
    "# endpoint : \n",
    "endpoint = \"\"\n",
    "api_key = \n",
    "# method : POST\n",
    "# header : api-key\n",
    "headers = {\n",
    "    \"Content-Type: application/json\",\n",
    "    \"api-key: YOUR_API_KEY\"\n",
    "}\n",
    "# body : message, extra options\n",
    "body"
   ]
  }
 ],
 "metadata": {
  "kernelspec": {
   "display_name": "ds_env",
   "language": "python",
   "name": "python3"
  },
  "language_info": {
   "codemirror_mode": {
    "name": "ipython",
    "version": 3
   },
   "file_extension": ".py",
   "mimetype": "text/x-python",
   "name": "python",
   "nbconvert_exporter": "python",
   "pygments_lexer": "ipython3",
   "version": "3.12.8"
  }
 },
 "nbformat": 4,
 "nbformat_minor": 2
}
